{
 "cells": [
  {
   "cell_type": "markdown",
   "metadata": {
    "toc": "true"
   },
   "source": [
    "# Table of Contents\n",
    " <p>"
   ]
  },
  {
   "cell_type": "code",
   "execution_count": 1,
   "metadata": {
    "ExecuteTime": {
     "end_time": "2017-11-10T10:04:17.954035Z",
     "start_time": "2017-11-10T10:04:17.166383Z"
    },
    "collapsed": false
   },
   "outputs": [],
   "source": [
    "%matplotlib notebook \n",
    "import numpy as np\n",
    "import pandas as pd\n",
    "import matplotlib.pyplot as plt"
   ]
  },
  {
   "cell_type": "code",
   "execution_count": 2,
   "metadata": {
    "ExecuteTime": {
     "end_time": "2017-11-10T10:04:18.923310Z",
     "start_time": "2017-11-10T10:04:18.765325Z"
    },
    "collapsed": false
   },
   "outputs": [
    {
     "name": "stdout",
     "output_type": "stream",
     "text": [
      "Fri Nov 10 11:04:18 CET 2017\r\n"
     ]
    },
    {
     "data": {
      "text/plain": [
       "'0.20.3'"
      ]
     },
     "execution_count": 2,
     "metadata": {},
     "output_type": "execute_result"
    }
   ],
   "source": [
    "!'date'\n",
    "pd.__version__"
   ]
  },
  {
   "cell_type": "code",
   "execution_count": 3,
   "metadata": {
    "ExecuteTime": {
     "end_time": "2017-11-10T10:04:20.333423Z",
     "start_time": "2017-11-10T10:04:20.173163Z"
    },
    "collapsed": false
   },
   "outputs": [],
   "source": [
    "waterlevel_Ham = pd.read_pickle(\"waterlevel_Ham.pkl\")\n",
    "waterlevel_KM = pd.read_pickle(\"waterlevel_KM.pkl\")\n",
    "waterlevel_H = pd.read_pickle(\"waterlevel_H.pkl\")"
   ]
  },
  {
   "cell_type": "code",
   "execution_count": null,
   "metadata": {
    "ExecuteTime": {
     "end_time": "2017-11-10T10:01:23.451833Z",
     "start_time": "2017-11-10T10:01:01.740327Z"
    },
    "collapsed": true
   },
   "outputs": [],
   "source": [
    "fig, ax = plt.subplots(figsize = (10,5))\n",
    "toplot = 'level [m]'\n",
    "waterlevel_KM.plot('DATETIME', toplot, label = 'Kwaadmechelen', c='blue', ax=ax)\n",
    "waterlevel_Ham.plot('DATETIME', toplot, label = 'Ham', c='orange', ax=ax)\n",
    "waterlevel_H.plot('DATETIME', toplot, label = 'Hasselt', c='green', ax=ax)\n",
    "ax.legend()\n",
    "ax.set_ylim([28,32])\n",
    "ax.set_xlim(['2016-01-01', '2016-01-31'])\n",
    "\n",
    "# ax2 = ax.twinx()\n",
    "\n",
    "# waterlevel_H.plot('DATETIME', toplot, label = 'Hasselt', c='green', ax=ax2)\n",
    "\n",
    "# ax2.set_ylim([36,40])\n",
    "# ax2.set_xlim(['2016-01-01', '2016-01-31'])"
   ]
  },
  {
   "cell_type": "code",
   "execution_count": null,
   "metadata": {
    "ExecuteTime": {
     "end_time": "2017-11-10T10:01:29.724290Z",
     "start_time": "2017-11-10T10:01:29.453496Z"
    },
    "collapsed": true
   },
   "outputs": [],
   "source": [
    "plt.figure(figsize = (10,5))\n",
    "toplot = 'level [m]'\n",
    "plt.plot(waterlevel_KM['DATETIME'], waterlevel_KM[toplot], label = 'Kwaadmechelen', c='blue')\n",
    "plt.plot(waterlevel_Ham['DATETIME'], waterlevel_Ham[toplot], label = 'Ham', c='orange')\n",
    "plt.plot(waterlevel_H['DATETIME'], waterlevel_H[toplot], label = 'Hasselt', c='green')\n",
    "\n",
    "plt.legend()\n",
    "axes = plt.gca()\n",
    "axes.set_ylim([28,48])\n",
    "axes.set_xlim(['2016-01-01', '2016-01-31'])"
   ]
  }
 ],
 "metadata": {
  "kernelspec": {
   "display_name": "Python 3",
   "language": "python",
   "name": "python3"
  },
  "language_info": {
   "codemirror_mode": {
    "name": "ipython",
    "version": 3
   },
   "file_extension": ".py",
   "mimetype": "text/x-python",
   "name": "python",
   "nbconvert_exporter": "python",
   "pygments_lexer": "ipython3",
   "version": "3.5.4"
  },
  "nav_menu": {},
  "toc": {
   "navigate_menu": true,
   "number_sections": true,
   "sideBar": true,
   "threshold": "2",
   "toc_cell": true,
   "toc_section_display": "block",
   "toc_window_display": false
  }
 },
 "nbformat": 4,
 "nbformat_minor": 1
}
